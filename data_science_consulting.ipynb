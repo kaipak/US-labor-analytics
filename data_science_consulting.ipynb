{
 "cells": [
  {
   "cell_type": "code",
   "execution_count": null,
   "id": "c68fc7c2-7712-4c6d-a1e0-268012a0aeb1",
   "metadata": {},
   "outputs": [],
   "source": [
    "import pandas as pd\n",
    "import numpy as np\n",
    "import seaborn as sns\n",
    "import matplotlib.pyplot as plt\n",
    "import plotly.express as px"
   ]
  },
  {
   "cell_type": "code",
   "execution_count": null,
   "id": "15ed0adf-7017-4886-a292-e12ac5b5beab",
   "metadata": {},
   "outputs": [],
   "source": [
    "google_sheet_url = \"https://docs.google.com/spreadsheets/d/e/2PACX-1vRlkxp6fcfItWx85T7O8PaVF86ZWhFiHy5vu4oLxuCZk0r6zV3NmU2SXopIou91ZZGBXtMJy-7BSvyo/pub?output=csv\"\n",
    "google_sheet_url"
   ]
  },
  {
   "cell_type": "code",
   "execution_count": null,
   "id": "7450a5a2-1a14-4f21-8032-180ad95edc14",
   "metadata": {},
   "outputs": [],
   "source": [
    "df_rates = pd.read_csv(google_sheet_url, \n",
    "                        encoding='utf8', \n",
    "                        header=0)\n"
   ]
  },
  {
   "cell_type": "code",
   "execution_count": null,
   "id": "85540e6a-72c7-41cc-b856-7b6c1dcea3fd",
   "metadata": {},
   "outputs": [],
   "source": [
    "df_rates"
   ]
  },
  {
   "cell_type": "code",
   "execution_count": 22,
   "id": "711f5947-91f1-4e0a-bfaf-90727a1acfb5",
   "metadata": {},
   "outputs": [
    {
     "data": {
      "text/html": [
       "<div>\n",
       "<style scoped>\n",
       "    .dataframe tbody tr th:only-of-type {\n",
       "        vertical-align: middle;\n",
       "    }\n",
       "\n",
       "    .dataframe tbody tr th {\n",
       "        vertical-align: top;\n",
       "    }\n",
       "\n",
       "    .dataframe thead th {\n",
       "        text-align: right;\n",
       "    }\n",
       "</style>\n",
       "<table border=\"1\" class=\"dataframe\">\n",
       "  <thead>\n",
       "    <tr style=\"text-align: right;\">\n",
       "      <th></th>\n",
       "      <th>quality of education</th>\n",
       "      <th>quality of exp</th>\n",
       "      <th>yrs experience</th>\n",
       "      <th>rate ($/hr)</th>\n",
       "    </tr>\n",
       "  </thead>\n",
       "  <tbody>\n",
       "    <tr>\n",
       "      <th>count</th>\n",
       "      <td>9.000000</td>\n",
       "      <td>11.000000</td>\n",
       "      <td>11.000000</td>\n",
       "      <td>11.000000</td>\n",
       "    </tr>\n",
       "    <tr>\n",
       "      <th>mean</th>\n",
       "      <td>3.000000</td>\n",
       "      <td>3.000000</td>\n",
       "      <td>3.818182</td>\n",
       "      <td>142.727273</td>\n",
       "    </tr>\n",
       "    <tr>\n",
       "      <th>std</th>\n",
       "      <td>1.118034</td>\n",
       "      <td>1.264911</td>\n",
       "      <td>2.561959</td>\n",
       "      <td>93.229921</td>\n",
       "    </tr>\n",
       "    <tr>\n",
       "      <th>min</th>\n",
       "      <td>2.000000</td>\n",
       "      <td>1.000000</td>\n",
       "      <td>1.000000</td>\n",
       "      <td>35.000000</td>\n",
       "    </tr>\n",
       "    <tr>\n",
       "      <th>25%</th>\n",
       "      <td>2.000000</td>\n",
       "      <td>2.000000</td>\n",
       "      <td>2.000000</td>\n",
       "      <td>67.500000</td>\n",
       "    </tr>\n",
       "    <tr>\n",
       "      <th>50%</th>\n",
       "      <td>3.000000</td>\n",
       "      <td>3.000000</td>\n",
       "      <td>4.000000</td>\n",
       "      <td>125.000000</td>\n",
       "    </tr>\n",
       "    <tr>\n",
       "      <th>75%</th>\n",
       "      <td>4.000000</td>\n",
       "      <td>4.000000</td>\n",
       "      <td>5.000000</td>\n",
       "      <td>197.500000</td>\n",
       "    </tr>\n",
       "    <tr>\n",
       "      <th>max</th>\n",
       "      <td>5.000000</td>\n",
       "      <td>5.000000</td>\n",
       "      <td>10.000000</td>\n",
       "      <td>350.000000</td>\n",
       "    </tr>\n",
       "  </tbody>\n",
       "</table>\n",
       "</div>"
      ],
      "text/plain": [
       "       quality of education  quality of exp  yrs experience  rate ($/hr)\n",
       "count              9.000000       11.000000       11.000000    11.000000\n",
       "mean               3.000000        3.000000        3.818182   142.727273\n",
       "std                1.118034        1.264911        2.561959    93.229921\n",
       "min                2.000000        1.000000        1.000000    35.000000\n",
       "25%                2.000000        2.000000        2.000000    67.500000\n",
       "50%                3.000000        3.000000        4.000000   125.000000\n",
       "75%                4.000000        4.000000        5.000000   197.500000\n",
       "max                5.000000        5.000000       10.000000   350.000000"
      ]
     },
     "execution_count": 22,
     "metadata": {},
     "output_type": "execute_result"
    }
   ],
   "source": [
    "df_rates.describe()"
   ]
  },
  {
   "cell_type": "code",
   "execution_count": 24,
   "id": "f785baa4-42bb-46d0-874a-287572bf803f",
   "metadata": {},
   "outputs": [
    {
     "data": {
      "text/plain": [
       "<AxesSubplot:xlabel='country', ylabel='rate ($/hr)'>"
      ]
     },
     "execution_count": 24,
     "metadata": {},
     "output_type": "execute_result"
    },
    {
     "data": {
      "image/png": "[encoded data removed]",
      "text/plain": [
       "<Figure size 432x288 with 1 Axes>"
      ]
     },
     "metadata": {
      "needs_background": "light"
     },
     "output_type": "display_data"
    }
   ],
   "source": [
    "sns.boxplot(data=df_rates, x='country', y='rate ($/hr)')"
   ]
  },
  {
   "cell_type": "code",
   "execution_count": 28,
   "id": "6ae31f5b-f58a-4afe-ad93-18d12dd27e40",
   "metadata": {},
   "outputs": [
    {
     "data": {
      "text/plain": [
       "<AxesSubplot:xlabel='yrs experience', ylabel='rate ($/hr)'>"
      ]
     },
     "execution_count": 28,
     "metadata": {},
     "output_type": "execute_result"
    },
    {
     "data": {
      "image/png": "[encoded data removed]",
      "text/plain": [
       "<Figure size 432x288 with 1 Axes>"
      ]
     },
     "metadata": {
      "needs_background": "light"
     },
     "output_type": "display_data"
    }
   ],
   "source": [
    "sns.boxplot(data=df_rates, x='yrs experience', y='rate ($/hr)')"
   ]
  },
  {
   "cell_type": "code",
   "execution_count": null,
   "id": "f134ec62-2370-4dd5-b82c-5cd5c56685e4",
   "metadata": {},
   "outputs": [],
   "source": []
  }
 ],
 "metadata": {
  "kernelspec": {
   "display_name": "Python (data_analysis)",
   "language": "python",
   "name": "data_analysis"
  },
  "language_info": {
   "codemirror_mode": {
    "name": "ipython",
    "version": 3
   },
   "file_extension": ".py",
   "mimetype": "text/x-python",
   "name": "python",
   "nbconvert_exporter": "python",
   "pygments_lexer": "ipython3",
   "version": "3.9.7"
  }
 },
 "nbformat": 4,
 "nbformat_minor": 5
}
